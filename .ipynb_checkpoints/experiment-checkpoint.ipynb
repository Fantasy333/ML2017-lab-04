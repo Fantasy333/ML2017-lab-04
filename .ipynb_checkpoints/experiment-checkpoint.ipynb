{
 "cells": [
  {
   "cell_type": "code",
   "execution_count": 1,
   "metadata": {
    "collapsed": true
   },
   "outputs": [],
   "source": [
    "import numpy as np\n",
    "import pandas as pd\n",
    "import matplotlib.pyplot as plt"
   ]
  },
  {
   "cell_type": "code",
   "execution_count": 2,
   "metadata": {
    "collapsed": true
   },
   "outputs": [],
   "source": [
    "def get_data(filename):\n",
    "    data = pd.read_table(filename,names=['user_id','item_id','rates','time_stamp'])\n",
    "    a = pd.pivot_table(\n",
    "        data,\n",
    "        values='rates',\n",
    "        index=['user_id'],\n",
    "        columns=['item_id'],\n",
    "        aggfunc=np.sum\n",
    "        )\n",
    "    a = np.array(a)\n",
    "    return a"
   ]
  },
  {
   "cell_type": "code",
   "execution_count": 3,
   "metadata": {
    "collapsed": true
   },
   "outputs": [],
   "source": [
    "R = get_data('u1.base')\n",
    "test = get_data('u1.test')"
   ]
  },
  {
   "cell_type": "code",
   "execution_count": 4,
   "metadata": {},
   "outputs": [
    {
     "data": {
      "text/plain": [
       "array([[  5.,   3.,   4., ...,  nan,  nan,  nan],\n",
       "       [  4.,  nan,  nan, ...,  nan,  nan,  nan],\n",
       "       [ nan,  nan,  nan, ...,  nan,  nan,  nan],\n",
       "       ..., \n",
       "       [  5.,  nan,  nan, ...,  nan,  nan,  nan],\n",
       "       [ nan,  nan,  nan, ...,  nan,  nan,  nan],\n",
       "       [ nan,   5.,  nan, ...,  nan,  nan,  nan]])"
      ]
     },
     "execution_count": 4,
     "metadata": {},
     "output_type": "execute_result"
    }
   ],
   "source": [
    "R"
   ]
  },
  {
   "cell_type": "code",
   "execution_count": 5,
   "metadata": {},
   "outputs": [
    {
     "data": {
      "text/plain": [
       "array([[ nan,  nan,  nan, ...,  nan,  nan,  nan],\n",
       "       [ nan,  nan,  nan, ...,  nan,  nan,  nan],\n",
       "       [ nan,  nan,  nan, ...,  nan,  nan,  nan],\n",
       "       ..., \n",
       "       [ nan,  nan,  nan, ...,  nan,  nan,  nan],\n",
       "       [ nan,  nan,  nan, ...,  nan,  nan,  nan],\n",
       "       [ nan,  nan,  nan, ...,  nan,  nan,  nan]])"
      ]
     },
     "execution_count": 5,
     "metadata": {},
     "output_type": "execute_result"
    }
   ],
   "source": [
    "test"
   ]
  },
  {
   "cell_type": "code",
   "execution_count": 11,
   "metadata": {
    "collapsed": true
   },
   "outputs": [],
   "source": [
    "loss_list=[]\n",
    "step_list=[]\n",
    "def matrix_factorization(R,P,Q,K,test_data,steps=2, alpha=0.0001, beta=0.02,batch_size=800):\n",
    "    Q = Q.T\n",
    "    min_size = min(test_data.shape[1] , R.shape[1])\n",
    "    used_samples = np.zeros(min_size).reshape(-1)\n",
    "    for step in range(steps):\n",
    "        if not(np.where(used_samples==0)[0].shape[0]):\n",
    "            break\n",
    "        idxs = np.random.choice(np.where(used_samples == 0)[0], batch_size)\n",
    "        r = np.zeros(R.shape)\n",
    "        r[:, idxs] = R[:, idxs]\n",
    "        t = np.zeros(test_data.shape)\n",
    "        t[:, idxs] = test_data[:, idxs]\n",
    "\n",
    "        for i in range(len(r)):\n",
    "            for j in range(len(r[i])):\n",
    "                if r[i][j] > 0:\n",
    "                    eij = r[i][j] - np.dot(P[i, :], Q[:, j]) \n",
    "                    for k in range(K):\n",
    "                        P[i][k] = P[i][k] + alpha * (2 * eij * Q[k][j] - beta * P[i][k])\n",
    "                        Q[k][j] = Q[k][j] + alpha * (2 * eij * P[i][k] - beta * Q[k][j])\n",
    "        e = 0\n",
    "        for i in range(len(t)):\n",
    "            for j in range(len(t[i])):\n",
    "                if t[i][j] > 0:\n",
    "                    e = e + pow(t[i][j] - np.dot(P[i, :], Q[:, j]), 2)\n",
    "                    for k in range(K):\n",
    "                        e = e + (beta / 2) * (pow(P[i][k], 2) + pow(Q[k][j], 2))\n",
    "        loss = e / (len(test_data) * len(test_data[0]))\n",
    "        loss_list.append(loss)\n",
    "        step_list.append(step)\n",
    "        print(loss)\n",
    "        if e < 0.001:\n",
    "            break\n",
    "    return P, Q.T"
   ]
  },
  {
   "cell_type": "code",
   "execution_count": 12,
   "metadata": {},
   "outputs": [
    {
     "name": "stdout",
     "output_type": "stream",
     "text": [
      "0.0365246271921\n",
      "0.0353636450201\n",
      "0.0353670327255\n",
      "0.0317046987808\n",
      "0.031115783758\n",
      "0.0315961962977\n",
      "0.0291111686098\n",
      "0.0271634925588\n",
      "0.029912129539\n",
      "0.0287409193788\n",
      "0.0274058293171\n",
      "0.0244786833203\n",
      "0.0241750015736\n",
      "0.0250277760727\n",
      "0.0236514404475\n",
      "0.0241456239828\n",
      "0.024233368804\n",
      "0.0226499359972\n",
      "0.0229146050038\n",
      "0.0226656508316\n",
      "0.0218479803914\n",
      "0.0230351494628\n",
      "0.0215216898409\n",
      "0.0209264562898\n",
      "0.0215470340229\n",
      "0.021076707811\n",
      "0.0194255435016\n",
      "0.0208411398191\n",
      "0.0208615866531\n",
      "0.0205994460293\n",
      "0.0213543092515\n",
      "0.0181713331063\n",
      "0.0188374829719\n",
      "0.0192720468042\n",
      "0.0188845675625\n",
      "0.0201685770531\n",
      "0.0181638603446\n",
      "0.0203763794087\n",
      "0.0199181680273\n",
      "0.0188580408399\n",
      "0.0188870532021\n",
      "0.0186894677434\n",
      "0.0192859522919\n",
      "0.0187699715191\n",
      "0.0191847219418\n",
      "0.0188457574623\n",
      "0.0184935301951\n",
      "0.0182954258941\n",
      "0.0185188944351\n",
      "0.0182863784838\n",
      "0.0178455293395\n",
      "0.0184443158447\n",
      "0.0201035234736\n",
      "0.0175016229906\n",
      "0.0177869171804\n",
      "0.0172887984762\n",
      "0.018402126399\n",
      "0.0175651409106\n",
      "0.018079057618\n",
      "0.01667442127\n",
      "0.0180771225993\n",
      "0.017148128312\n",
      "0.0182240418372\n",
      "0.01856007262\n",
      "0.0166011623924\n",
      "0.0187623613006\n",
      "0.0167950511298\n",
      "0.0162712359519\n",
      "0.0182024482134\n",
      "0.0170137458915\n",
      "0.0172666132192\n",
      "0.0168545784429\n",
      "0.0187582796126\n",
      "0.0180867865445\n",
      "0.0180790572925\n",
      "0.0180506291824\n",
      "0.0184646834874\n",
      "0.0175619880979\n",
      "0.0179146671449\n",
      "0.0179709819556\n",
      "0.0181895617777\n",
      "0.0172972966815\n",
      "0.0157987602552\n",
      "0.0169959672392\n",
      "0.0181988252316\n",
      "0.0171931205917\n",
      "0.0170040164382\n",
      "0.0171200709346\n",
      "0.015846615795\n",
      "0.017599018164\n",
      "0.0166884792528\n",
      "0.0174899001089\n",
      "0.0163873261593\n",
      "0.0170115995352\n",
      "0.0163710790563\n",
      "0.0170089762346\n",
      "0.0169888705569\n",
      "0.016932211641\n",
      "0.0181181826404\n",
      "0.0168479688799\n"
     ]
    },
    {
     "data": {
      "image/png": "[encoded data removed]",
      "text/plain": [
       "<matplotlib.figure.Figure at 0x84a4e10>"
      ]
     },
     "metadata": {},
     "output_type": "display_data"
    }
   ],
   "source": [
    "N,M = R.shape\n",
    "K = 10\n",
    "P = np.random.rand(N,K)\n",
    "Q = np.random.rand(M,K)\n",
    "step = 100\n",
    "aP,aQ = matrix_factorization(R,P,Q,K,test,step)\n",
    "\n",
    "aR = np.dot(aP,aQ.T)\n",
    "\n",
    "plt.plot(step_list, loss_list)\n",
    "plt.ylabel('loss')\n",
    "plt.xlabel('step')\n",
    "plt.show()"
   ]
  },
  {
   "cell_type": "code",
   "execution_count": null,
   "metadata": {
    "collapsed": true
   },
   "outputs": [],
   "source": []
  }
 ],
 "metadata": {
  "kernelspec": {
   "display_name": "Python 3",
   "language": "python",
   "name": "python3"
  },
  "language_info": {
   "codemirror_mode": {
    "name": "ipython",
    "version": 3
   },
   "file_extension": ".py",
   "mimetype": "text/x-python",
   "name": "python",
   "nbconvert_exporter": "python",
   "pygments_lexer": "ipython3",
   "version": "3.6.3"
  }
 },
 "nbformat": 4,
 "nbformat_minor": 2
}
